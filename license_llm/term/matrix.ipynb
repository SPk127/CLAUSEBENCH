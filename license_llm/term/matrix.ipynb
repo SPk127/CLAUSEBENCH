{
 "cells": [
  {
   "cell_type": "code",
   "execution_count": null,
   "metadata": {},
   "outputs": [
    {
     "name": "stdout",
     "output_type": "stream",
     "text": [
      "                CAN  MUST  MUST NOT  OPTIONAL  NOT SPECIFIED\n",
      "CAN            1396    20         2         1              9\n",
      "MUST              7   720         2        11             25\n",
      "MUST NOT         35    30       736         0             37\n",
      "OPTIONAL          0     6         3        37              4\n",
      "NOT SPECIFIED    13    27        10         6            259\n"
     ]
    }
   ],
   "source": [
    "import json\n",
    "from collections import defaultdict\n",
    "import pandas as pd\n",
    "\n",
    "# 输入文件路径\n",
    "dataset_file = 'Benchmark/license_data/license_llm/term/result/merged_terms.json'\n",
    "\n",
    "\n",
    "\n",
    "markers = [\"CAN\", \"MUST\", \"MUST NOT\", \"OPTIONAL\", \"NOT SPECIFIED\"]\n",
    "confusion_matrix = defaultdict(lambda: defaultdict(int))\n",
    "\n",
    "with open(dataset_file, 'r') as f:\n",
    "    data = json.load(f)\n",
    "\n",
    "with open('/home/keqiang/Benchmark/fine_grained.json', 'r') as file:\n",
    "    dataset = json.load(file)\n",
    "\n",
    "dataset_dict = {\n",
    "    (entry['license_name'], term_info['term'])\n",
    "    for entry in dataset for term_info in entry['terms']\n",
    "}\n",
    "\n",
    "\n",
    "# 构建混淆矩阵函数\n",
    "def build_confusion_matrix(data):\n",
    "    for license_data in data:\n",
    "        license_name = license_data[\"license_name\"]\n",
    "        \n",
    "        for term_data in license_data[\"terms\"]:\n",
    "            term = term_data[\"term\"]\n",
    "            \n",
    "            # 检查条款是否在数据集中\n",
    "            if (license_name, term) not in dataset_dict:\n",
    "                continue\n",
    "            \n",
    "            # 获取 deepseek 和 mistral 的标注值\n",
    "            deepseek_marker = term_data[\"deepseek_response\"].get(\"marker\", \"None\")\n",
    "            mistral_marker = term_data[\"mistral_large_response\"].get(\"marker\", \"None\")\n",
    "            \n",
    "            # 更新混淆矩阵\n",
    "            confusion_matrix[deepseek_marker][mistral_marker] += 1\n",
    "\n",
    "\n",
    "# 生成混淆矩阵\n",
    "build_confusion_matrix(data)\n",
    "\n",
    "# 转换为 DataFrame 以便查看和输出\n",
    "confusion_df = pd.DataFrame(confusion_matrix).fillna(0).astype(int)\n",
    "confusion_df = confusion_df.reindex(index=markers, columns=markers, fill_value=0)\n",
    "\n",
    "# 输出混淆矩阵\n",
    "print(confusion_df)"
   ]
  }
 ],
 "metadata": {
  "kernelspec": {
   "display_name": "base",
   "language": "python",
   "name": "python3"
  },
  "language_info": {
   "codemirror_mode": {
    "name": "ipython",
    "version": 3
   },
   "file_extension": ".py",
   "mimetype": "text/x-python",
   "name": "python",
   "nbconvert_exporter": "python",
   "pygments_lexer": "ipython3",
   "version": "3.11.5"
  }
 },
 "nbformat": 4,
 "nbformat_minor": 2
}
