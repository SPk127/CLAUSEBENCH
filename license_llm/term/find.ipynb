{
 "cells": [
  {
   "cell_type": "code",
   "execution_count": 6,
   "metadata": {},
   "outputs": [
    {
     "name": "stdout",
     "output_type": "stream",
     "text": [
      "Rename artistic-perl-1.0.license\n",
      "Rename cddl-1.0.license\n",
      "Rename cddl-1.1.license\n",
      "Disclose Source gnuplot.license\n",
      "Disclose Source sfl-license.license\n",
      "Rename mpl-2.0.license\n",
      "Rename oset-pl-2.1.license\n",
      "Modify qhull.license\n",
      "Distribute: 579\n",
      "Modify: 571\n",
      "Hold Liable: 429\n",
      "Commercial Use: 177\n",
      "Include Copyright: 361\n",
      "Include License: 196\n",
      "Sublicense: 193\n",
      "Use Trademark: 210\n",
      "Disclose Source: 275\n",
      "Relicense: 43\n",
      "Give Credit: 160\n",
      "Use Patent Claims: 104\n",
      "Rename: 43\n",
      "Contact Author: 55\n"
     ]
    }
   ],
   "source": [
    "import re\n",
    "import json\n",
    "import pandas as pd\n",
    "from collections import defaultdict\n",
    "\n",
    "file_path = r'/home/keqiang/Benchmark/license_data/license_llm/term/result/terms_dataset.json'\n",
    "term1 = [\"Distribute\", \"Modify\", \"Commercial Use\", \"Relicense\", \"Hold Liable\", \"Use Patent Claims\", \"Sublicense\", \"Use Trademark\"]\n",
    "term2 = [\"Include Copyright\", \"Disclose Source\", \"Give Credit\", \"Rename\", \"Contact Author\"]\n",
    "\n",
    "with open(file_path, 'r', encoding='utf-8') as f:\n",
    "    file_content = json.load(f)\n",
    "\n",
    "key_count = defaultdict(int)\n",
    "\n",
    "filename_set = set()\n",
    "\n",
    "for item in file_content:\n",
    "    filename = item[\"license_name\"]\n",
    "    for term in item['terms']:\n",
    "        term_name = term['term']\n",
    "        if term_name in term1:\n",
    "            if term['marker'] == 'MUST' or term['marker'] == 'OPTIONAL':\n",
    "                print(term_name, filename)\n",
    "        elif term_name in term2:\n",
    "            if term['marker'] == 'CAN' or term['marker'] == 'MUST NOT':\n",
    "                print(term_name, filename)\n",
    "        key_count[term_name] += 1\n",
    "\n",
    "\n",
    "for key, value in key_count.items():\n",
    "    print(f\"{key}: {value}\")\n",
    "\n"
   ]
  }
 ],
 "metadata": {
  "kernelspec": {
   "display_name": "base",
   "language": "python",
   "name": "python3"
  },
  "language_info": {
   "codemirror_mode": {
    "name": "ipython",
    "version": 3
   },
   "file_extension": ".py",
   "mimetype": "text/x-python",
   "name": "python",
   "nbconvert_exporter": "python",
   "pygments_lexer": "ipython3",
   "version": "3.11.5"
  }
 },
 "nbformat": 4,
 "nbformat_minor": 2
}
