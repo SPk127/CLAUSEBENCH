{
 "cells": [
  {
   "cell_type": "code",
   "execution_count": null,
   "metadata": {},
   "outputs": [
    {
     "name": "stdout",
     "output_type": "stream",
     "text": [
      "Total inconsistent terms: 379\n",
      "similar: 135, strong_oppose: 60\n",
      "Commercial Use: 15\n",
      "Use Trademark: 130\n",
      "Disclose Source: 51\n",
      "Include License: 29\n",
      "Use Patent Claims: 36\n",
      "Include Copyright: 9\n",
      "Sublicense: 5\n",
      "Distribute: 18\n",
      "Give Credit: 15\n",
      "Rename: 18\n",
      "Modify: 18\n",
      "Hold Liable: 5\n",
      "Relicense: 18\n",
      "Statically Link: 1\n",
      "Contact Author: 5\n",
      "Include Install Instructions: 2\n",
      "Private Use: 4\n"
     ]
    }
   ],
   "source": [
    "import json\n",
    "from collections import defaultdict\n",
    "\n",
    "\n",
    "# 读取 JSON 文件内容\n",
    "with open('Benchmark/license_data/license_llm/term/result/merged_terms.json', 'r') as f:\n",
    "    data = json.load(f)\n",
    "\n",
    "# 存储不一致的条款信息\n",
    "inconsistent_terms = []\n",
    "\n",
    "term_count = defaultdict(int)\n",
    "\n",
    "strong_oppose = 0\n",
    "similar = 0\n",
    "\n",
    "# 定义 marker 对比规则\n",
    "similar_pairs = {(\"CAN\", \"MUST\"), (\"CANNOT\", \"MUST NOT\"), (\"MUST\", \"CAN\"), (\"MUST NOT\", \"CANNOT\")}\n",
    "strong_oppose_pairs = {(\"CAN\", \"CANNOT\"), (\"MUST\", \"MUST NOT\"), (\"CAN\", \"MUST NOT\"), (\"MUST NOT\", \"CAN\")}\n",
    "\n",
    "\n",
    "# 遍历所有许可证\n",
    "for license_info in data:\n",
    "    license_name = license_info[\"license_name\"]\n",
    "    \n",
    "    # 遍历每个许可证的条款\n",
    "    for term_info in license_info[\"terms\"]:\n",
    "        term_name = term_info[\"term\"]\n",
    "        \n",
    "        # 获取 deepseek 和 mistral_large 的 marker 值\n",
    "        deepseek_marker = term_info[\"deepseek_response\"].get(\"marker\") if isinstance(term_info[\"deepseek_response\"], dict) else None\n",
    "        mistral_marker = term_info[\"mistral_large_response\"].get(\"marker\") if isinstance(term_info[\"mistral_large_response\"], dict) else None\n",
    "        \n",
    "        # 检查 marker 是否不一致\n",
    "        if deepseek_marker and mistral_marker and deepseek_marker != mistral_marker:\n",
    "            inconsistent_terms.append({\n",
    "                \"license_name\": license_name,\n",
    "                \"term_info\": term_info,\n",
    "            })\n",
    "            \n",
    "            marker_pair = (deepseek_marker, mistral_marker)\n",
    "            if marker_pair in similar_pairs or marker_pair[::-1] in similar_pairs:\n",
    "                similar += 1\n",
    "            elif marker_pair in strong_oppose_pairs or marker_pair[::-1] in strong_oppose_pairs:\n",
    "                strong_oppose += 1\n",
    "            \n",
    "            term_count[term_name] += 1\n",
    "            \n",
    "            # print(term_info['deepseek_response']['marker'], term_info['mistral_large_response']['marker'],license_name)\n",
    "\n",
    "# 输出不一致的条款信息\n",
    "print(f\"Total inconsistent terms: {len(inconsistent_terms)}\")\n",
    "print(f\"similar: {similar}, strong_oppose: {strong_oppose}\")\n",
    "\n",
    "for key, value in term_count.items():\n",
    "    print(f\"{key}: {value}\")\n",
    "\n",
    "with open('Benchmark/license_data/license_llm/term/result/inconsistent_terms.json', 'w') as f:\n",
    "    json.dump(inconsistent_terms, f, indent=4)\n"
   ]
  }
 ],
 "metadata": {
  "kernelspec": {
   "display_name": "base",
   "language": "python",
   "name": "python3"
  },
  "language_info": {
   "codemirror_mode": {
    "name": "ipython",
    "version": 3
   },
   "file_extension": ".py",
   "mimetype": "text/x-python",
   "name": "python",
   "nbconvert_exporter": "python",
   "pygments_lexer": "ipython3",
   "version": "3.11.5"
  }
 },
 "nbformat": 4,
 "nbformat_minor": 2
}
