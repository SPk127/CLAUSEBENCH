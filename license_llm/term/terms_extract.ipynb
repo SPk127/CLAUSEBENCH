{
 "cells": [
  {
   "cell_type": "code",
   "execution_count": null,
   "metadata": {},
   "outputs": [],
   "source": [
    "import json\n",
    "import re\n",
    "\n",
    "deepseek_re = 'Benchmark/license_data/license_llm/term/logging/2024-10-29-deepseek.log'\n",
    "mistral_re = 'Benchmark/license_data/license_llm/term/logging/2024-10-28.log'\n",
    "\n",
    "merged_terms = 'Benchmark/license_data/license_llm/term/result/merged_terms.json'\n",
    "\n",
    "# 解析带格式的JSON字符串为字典\n",
    "def parse_json_string(json_string):\n",
    "    try:\n",
    "        # 去除多余的标记字符\n",
    "        json_string = re.sub(r'```json|```$', '', json_string).strip()\n",
    "        return json.loads(json_string)\n",
    "    except json.JSONDecodeError:\n",
    "        return json_string  # 返回原始字符串以防无法解析\n",
    "\n",
    "# 读取deepseek和mistral large数据\n",
    "with open(deepseek_re, 'r') as f:\n",
    "    deepseek_data = [json.loads(line) for line in f]\n",
    "\n",
    "with open(mistral_re, 'r') as f:\n",
    "    mistral_data = [json.loads(line) for line in f]\n",
    "\n",
    "# 合并数据\n",
    "\n",
    "i=0\n",
    "\n",
    "merged_data = {}\n",
    "for entry in deepseek_data + mistral_data:\n",
    "    i+=1\n",
    "    license_name = entry[\"license_name\"]\n",
    "    term = entry[\"license_terms\"]\n",
    "    response_key = \"deepseek_response\" if \"deepseek_response\" in entry else \"mistral_large_response\"\n",
    "    response_value = parse_json_string(entry[response_key])\n",
    "\n",
    "    # 初始化每个许可证和条款的结构\n",
    "    if license_name not in merged_data:\n",
    "        merged_data[license_name] = {\"license_name\": license_name, \"terms\": {}}\n",
    "\n",
    "    if term not in merged_data[license_name][\"terms\"]:\n",
    "        merged_data[license_name][\"terms\"][term] = {\"term\": term, \"deepseek_response\": \"None\", \"mistral_large_response\": \"None\"}\n",
    "\n",
    "    # 设置对应的响应信息\n",
    "    merged_data[license_name][\"terms\"][term][response_key] = response_value\n",
    "\n",
    "# 转换为目标格式\n",
    "final_data = []\n",
    "for license_info in merged_data.values():\n",
    "    license_info[\"terms\"] = list(license_info[\"terms\"].values())\n",
    "    final_data.append(license_info)\n",
    "\n",
    "# 写入结果到JSON文件\n",
    "with open(merged_terms, 'w') as f:\n",
    "    json.dump(final_data, f, indent=4)\n",
    "\n"
   ]
  }
 ],
 "metadata": {
  "kernelspec": {
   "display_name": "base",
   "language": "python",
   "name": "python3"
  },
  "language_info": {
   "codemirror_mode": {
    "name": "ipython",
    "version": 3
   },
   "file_extension": ".py",
   "mimetype": "text/x-python",
   "name": "python",
   "nbconvert_exporter": "python",
   "pygments_lexer": "ipython3",
   "version": "3.11.5"
  }
 },
 "nbformat": 4,
 "nbformat_minor": 2
}
