{
 "cells": [
  {
   "cell_type": "code",
   "execution_count": 1,
   "metadata": {},
   "outputs": [
    {
     "name": "stdout",
     "output_type": "stream",
     "text": [
      "Relicense 589\n",
      "Use Patent Claims 528\n",
      "Sublicense 431\n",
      "Use Trademark 424\n",
      "Include Copyright 273\n",
      "Include License 438\n",
      "Disclose Source 359\n",
      "Give Credit 474\n",
      "Rename 591\n",
      "Contact Author 579\n",
      "Commercial Use 385\n",
      "Modify 63\n",
      "Distribute 50\n",
      "Hold Liable 205\n"
     ]
    }
   ],
   "source": [
    "import json\n",
    "from collections import defaultdict\n",
    "\n",
    "json_file = '/home/keqiang/Benchmark/license_data/license_extract/license_terms_spdx3.json'  # replace with your json file path\n",
    "\n",
    "empty_terms = defaultdict(int)\n",
    "\n",
    "with open(json_file, 'r') as f:\n",
    "    data = json.load(f)\n",
    "\n",
    "for case in data:\n",
    "    for term, content in case['terms'].items():\n",
    "        if not content['lines']:\n",
    "            empty_terms[term] += 1\n",
    "\n",
    "\n",
    "\n",
    "for key, value in empty_terms.items():\n",
    "        print(key, value)"
   ]
  }
 ],
 "metadata": {
  "kernelspec": {
   "display_name": "base",
   "language": "python",
   "name": "python3"
  },
  "language_info": {
   "codemirror_mode": {
    "name": "ipython",
    "version": 3
   },
   "file_extension": ".py",
   "mimetype": "text/x-python",
   "name": "python",
   "nbconvert_exporter": "python",
   "pygments_lexer": "ipython3",
   "version": "3.11.5"
  }
 },
 "nbformat": 4,
 "nbformat_minor": 2
}
