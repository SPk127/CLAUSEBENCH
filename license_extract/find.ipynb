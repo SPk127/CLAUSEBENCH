{
 "cells": [
  {
   "cell_type": "code",
   "execution_count": 18,
   "metadata": {},
   "outputs": [],
   "source": [
    "import re\n",
    "import json\n",
    "import pandas as pd\n",
    "from collections import defaultdict\n",
    "\n",
    "file_path = r'/home/keqiang/Benchmark/license_data/license_extract/has_spdx_spdx.json'\n",
    "spdx_key_file = r'/home/keqiang/Benchmark/license_data/license_info/spdx_license_list.csv'\n",
    "\n",
    "with open(file_path, 'r', encoding='utf-8') as f:\n",
    "    file_content = json.load(f)\n",
    "\n",
    "spdx_id_set = set()\n",
    "key_set = set()\n",
    "\n",
    "spdx_id_count = defaultdict(int)\n",
    "\n",
    "df = pd.read_csv(spdx_key_file)\n",
    "for index, row in df.iterrows():\n",
    "    spdx_id = row['Identifier']\n",
    "    spdx_id_set.add(spdx_id)\n",
    "    spdx_id_count[spdx_id] += 1\n",
    "    \n",
    "for item in file_content:\n",
    "    spdx_license_key = item['license_summary']['license_information']['spdx_license_key']\n",
    "    if spdx_license_key not in spdx_id_set:\n",
    "        print(f'{spdx_license_key} not in spdx_id_set')\n",
    "    else:\n",
    "        spdx_id_count[spdx_license_key] += 1\n",
    "\n",
    "for key, value in spdx_id_count.items():\n",
    "    if value != 2:\n",
    "        print(key, value)\n",
    "        \n",
    "        \n",
    "file_content.sort(key=lambda x: x[\"license_summary\"][\"license_information\"].get('spdx_license_key').lower())\n",
    "\n",
    "with open(file_path, 'w', encoding='utf-8') as f:\n",
    "    json.dump(file_content, f, ensure_ascii=False, indent=4)\n",
    "    "
   ]
  }
 ],
 "metadata": {
  "kernelspec": {
   "display_name": "base",
   "language": "python",
   "name": "python3"
  },
  "language_info": {
   "codemirror_mode": {
    "name": "ipython",
    "version": 3
   },
   "file_extension": ".py",
   "mimetype": "text/x-python",
   "name": "python",
   "nbconvert_exporter": "python",
   "pygments_lexer": "ipython3",
   "version": "3.11.5"
  }
 },
 "nbformat": 4,
 "nbformat_minor": 2
}
