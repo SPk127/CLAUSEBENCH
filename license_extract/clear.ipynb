{
 "cells": [
  {
   "cell_type": "code",
   "execution_count": 1,
   "metadata": {},
   "outputs": [
    {
     "name": "stdout",
     "output_type": "stream",
     "text": [
      "has_key 2354\n",
      "has_spdx 2222\n",
      "has_spdx_except 73\n",
      "has_spdx_scode 1509\n",
      "has_spdx_spdx 640\n",
      "no_spdx 132\n"
     ]
    }
   ],
   "source": [
    "import re\n",
    "import json\n",
    "import pandas as pd\n",
    "import os\n",
    "from collections import defaultdict\n",
    "\n",
    "file_path = r'/home/keqiang/Benchmark/license_data/license_manual/mistral_sum.json'\n",
    "scan_result = r'/home/keqiang/Benchmark/license_data/license_scan/LICENSE_scan_results.csv'\n",
    "\n",
    "with open(file_path, 'r', encoding='utf-8') as f:\n",
    "    file_content = json.load(f)\n",
    "\n",
    "key_count = defaultdict(int)\n",
    "cate_count = defaultdict(int)\n",
    "\n",
    "filename_set = set()\n",
    "key_set = set()\n",
    "\n",
    "has_key = []\n",
    "has_spdx = []\n",
    "has_spdx_except = []\n",
    "has_spdx_scode = []\n",
    "has_spdx_spdx = []\n",
    "no_spdx = []\n",
    "\n",
    "# df = pd.read_csv(scan_result)\n",
    "# for index, row in df.iterrows():\n",
    "#     file_name = row['Files']\n",
    "#     filename_set.add(file_name)\n",
    "#     key_count[file_name] += 1\n",
    "\n",
    "for item in file_content:\n",
    "    filename1 = item[\"license_summary\"][\"license_information\"]['filename']\n",
    "    key = item[\"license_summary\"][\"license_information\"].get('key')\n",
    "    category = item[\"license_summary\"][\"license_information\"].get('category')\n",
    "    spdx_key = item[\"license_summary\"][\"license_information\"].get('spdx_license_key')\n",
    "    \n",
    "    if key is not None:\n",
    "        has_key.append(item)\n",
    "        if spdx_key is not None:\n",
    "            has_spdx.append(item)\n",
    "            if 'LicenseRef' in spdx_key:\n",
    "                has_spdx_scode.append(item)\n",
    "            elif 'exception' in spdx_key:\n",
    "                has_spdx_except.append(item)\n",
    "            else:\n",
    "                has_spdx_spdx.append(item)\n",
    "        else:\n",
    "            no_spdx.append(item)\n",
    "\n",
    "has_spdx_spdx.sort(key=lambda x: x[\"license_summary\"][\"license_information\"].get('spdx_license_key').lower())\n",
    "has_spdx_except.sort(key=lambda x: x[\"license_summary\"][\"license_information\"].get('spdx_license_key').lower())\n",
    "\n",
    "dir_path = r'/home/keqiang/Benchmark/license_data/license_manual'\n",
    "\n",
    "# 将每个列表写入单独的 JSON 文件\n",
    "files = {\n",
    "    \"has_key\": has_key,\n",
    "    \"has_spdx\": has_spdx,\n",
    "    \"has_spdx_except\": has_spdx_except,\n",
    "    \"has_spdx_scode\": has_spdx_scode,\n",
    "    \"has_spdx_spdx\": has_spdx_spdx,\n",
    "    \"no_spdx\": no_spdx\n",
    "}\n",
    "\n",
    "for file_name, data in files.items():\n",
    "    output_file_path = os.path.join(dir_path, file_name + '.json')\n",
    "    with open(output_file_path, 'w', encoding='utf-8') as f:\n",
    "        json.dump(data, f, ensure_ascii=False, indent=4)\n",
    "    print(file_name, len(data))\n",
    "\n"
   ]
  },
  {
   "cell_type": "code",
   "execution_count": null,
   "metadata": {},
   "outputs": [],
   "source": []
  }
 ],
 "metadata": {
  "kernelspec": {
   "display_name": "base",
   "language": "python",
   "name": "python3"
  },
  "language_info": {
   "codemirror_mode": {
    "name": "ipython",
    "version": 3
   },
   "file_extension": ".py",
   "mimetype": "text/x-python",
   "name": "python",
   "nbconvert_exporter": "python",
   "pygments_lexer": "ipython3",
   "version": "3.11.5"
  }
 },
 "nbformat": 4,
 "nbformat_minor": 2
}
